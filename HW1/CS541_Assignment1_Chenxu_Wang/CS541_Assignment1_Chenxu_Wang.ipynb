{
 "cells": [
  {
   "cell_type": "code",
   "execution_count": 15,
   "metadata": {},
   "outputs": [],
   "source": [
    "# Assignment1_1 \n",
    "# Chenxu Wang\n",
    "# 10457625"
   ]
  },
  {
   "cell_type": "code",
   "execution_count": 16,
   "metadata": {},
   "outputs": [],
   "source": [
    "import numpy as np\n",
    "from numpy import linalg as LA\n",
    "import math\n",
    "import matplotlib.pyplot as plt"
   ]
  },
  {
   "cell_type": "code",
   "execution_count": 17,
   "metadata": {},
   "outputs": [],
   "source": [
    "# Define a function to generate matrix x with d = 1000\n",
    "# Each entry of x follows a uniform distribution in [-100， 100]\n",
    "def generator_x(d):\n",
    "    return np.random.uniform(-100, 100, d)"
   ]
  },
  {
   "cell_type": "code",
   "execution_count": 18,
   "metadata": {},
   "outputs": [],
   "source": [
    "# Define a function to generate matrix A with k x d\n",
    "# Each element in A is an i.i.d. draw from the normal distribution N(0, 1/k);\n",
    "def generater_A(k,d):\n",
    "    return np.random.normal(0,1/(math.sqrt(k)), size=(k, d))\n",
    "\n"
   ]
  },
  {
   "cell_type": "code",
   "execution_count": 19,
   "metadata": {},
   "outputs": [],
   "source": [
    "# Define a function to calculate norm2\n",
    "def norm2(z):\n",
    "    return LA.norm(z, ord=2)"
   ]
  },
  {
   "cell_type": "code",
   "execution_count": 20,
   "metadata": {},
   "outputs": [
    {
     "data": {
      "image/png": "[encoded data removed]",
      "text/plain": [
       "<Figure size 648x360 with 1 Axes>"
      ]
     },
     "metadata": {
      "needs_background": "light"
     },
     "output_type": "display_data"
    }
   ],
   "source": [
    "# set the parameters\n",
    "d = 1000;\n",
    "k_range = [10, 30, 50, 80, 100, 150, 200, 300, 400, 500, 600, 800, 1000]\n",
    "# Store all of ||X||\n",
    "X_list = []   #all \n",
    "# Store all of ||AX||\n",
    "AX_list = []  \n",
    "\n",
    "for k in k_range:\n",
    "    A = A_generate(k,d)\n",
    "    X = generator_x(d)\n",
    "    norm2_X = norm2(X)\n",
    "    norm2_AX = norm2(np.dot(A,X))\n",
    "    X_list.append(norm2_X)\n",
    "    AX_list.append(norm2_AX)\n",
    "\n",
    "plt.figure(figsize=(9,5))\n",
    "plt.xlabel(\"k(10-1000)\")\n",
    "plt.ylabel('Norm2')\n",
    "plt.scatter(k_range, y1, c='red', label='||X||')\n",
    "plt.scatter(k_range, y2, c='blue', label='||AX||')\n",
    "plt.title('Plot to compare ||X|| and ||AX||', fontsize=15)\n",
    "plt.legend()\n",
    "plt.show()"
   ]
  },
  {
   "cell_type": "code",
   "execution_count": null,
   "metadata": {},
   "outputs": [],
   "source": [
    "# We can find that the difference between ||X|| and ||AX|| is deceasing with the increasing of k"
   ]
  },
  {
   "cell_type": "code",
   "execution_count": null,
   "metadata": {},
   "outputs": [],
   "source": [
    "# Random Projection efficiently reduces the dimension of original matrix. "
   ]
  },
  {
   "cell_type": "code",
   "execution_count": null,
   "metadata": {},
   "outputs": [],
   "source": []
  },
  {
   "cell_type": "code",
   "execution_count": null,
   "metadata": {},
   "outputs": [],
   "source": []
  },
  {
   "cell_type": "code",
   "execution_count": null,
   "metadata": {},
   "outputs": [],
   "source": []
  }
 ],
 "metadata": {
  "kernelspec": {
   "display_name": "Python 3",
   "language": "python",
   "name": "python3"
  },
  "language_info": {
   "codemirror_mode": {
    "name": "ipython",
    "version": 3
   },
   "file_extension": ".py",
   "mimetype": "text/x-python",
   "name": "python",
   "nbconvert_exporter": "python",
   "pygments_lexer": "ipython3",
   "version": "3.8.3"
  }
 },
 "nbformat": 4,
 "nbformat_minor": 4
}
