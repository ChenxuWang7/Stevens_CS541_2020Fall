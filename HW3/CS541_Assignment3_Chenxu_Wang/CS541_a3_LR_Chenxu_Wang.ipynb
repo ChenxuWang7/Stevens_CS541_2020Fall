{
 "cells": [
  {
   "cell_type": "markdown",
   "metadata": {},
   "source": [
    "# CS541 HW3\n",
    "# Chenxu Wang\n",
    "# 10457625"
   ]
  },
  {
   "cell_type": "code",
   "execution_count": 2,
   "metadata": {},
   "outputs": [],
   "source": [
    "import numpy as np\n",
    "import random\n",
    "from numpy import linalg as LA\n",
    "import matplotlib.pyplot as plt"
   ]
  },
  {
   "cell_type": "markdown",
   "metadata": {},
   "source": [
    "# Consider n = 100 and d = 40."
   ]
  },
  {
   "cell_type": "code",
   "execution_count": 3,
   "metadata": {},
   "outputs": [],
   "source": [
    "n = 100\n",
    "d = 40"
   ]
  },
  {
   "cell_type": "markdown",
   "metadata": {},
   "source": [
    "# Generate Matrix X: nxd, and response y: nx1"
   ]
  },
  {
   "cell_type": "code",
   "execution_count": 4,
   "metadata": {},
   "outputs": [],
   "source": [
    "# define a function to generate X, y, and w.\n",
    "# Input:\n",
    "# X: nxd\n",
    "# y: nx1\n",
    "# w: dx1\n",
    "# Output:\n",
    "# X: nx(d+1), all values of last column are 1\n",
    "# y: nx1\n",
    "# w: (d+1)x1\n",
    "def generate_data(n, d):\n",
    "    # Generate X\n",
    "    np.random.seed(0)\n",
    "    X=np.random.randn(n,d) # nxd\n",
    "    #print(X.shape)\n",
    "    \n",
    "    \n",
    "    # Generate parameter w: (d+1)x1\n",
    "    random.seed(0)\n",
    "    w=np.array([random.randrange(2,30,1) for x in range(d+1)])\n",
    "    #print(param.shape)\n",
    "    \n",
    "    # Add an extra x=1 column for row vector Xi(1xd)\n",
    "    col_1=np.array([[1] for x in range(n)])\n",
    "    X = np.append(X,col_1,axis=1) # nx(d+1)\n",
    "    \n",
    "    \n",
    "    # Generate the random error(nx1) for X\n",
    "    error_level = 10\n",
    "    err = np.random.randn(n) * error_level # nx1\n",
    "    #print(err.shape)\n",
    "    # Obtain the response y by y=Xw + error\n",
    "    y = np.dot(X,w)\n",
    "    y = y + err # nx1\n",
    "    y = y.reshape(n,1)\n",
    "    w = w.reshape(d+1,1)\n",
    "    return X,y,w"
   ]
  },
  {
   "cell_type": "code",
   "execution_count": 5,
   "metadata": {},
   "outputs": [
    {
     "name": "stdout",
     "output_type": "stream",
     "text": [
      "(100, 41)\n",
      "(100, 1)\n",
      "(41, 1)\n"
     ]
    }
   ],
   "source": [
    "X, y, w = generate_data(n,d)\n",
    "print(X.shape)\n",
    "print(y.shape)\n",
    "print(w.shape)\n"
   ]
  },
  {
   "cell_type": "markdown",
   "metadata": {},
   "source": [
    "# Calculate the exact solution $w^{_{*}} = \\left ( X^{T} X\\right )^{-1}X^{T}y$"
   ]
  },
  {
   "cell_type": "code",
   "execution_count": 6,
   "metadata": {},
   "outputs": [],
   "source": [
    "# Difine a function to calculate exact solution w*\n",
    "def calculate_w_opt(X, y):\n",
    "    X = np.asmatrix(X)\n",
    "    tmp = X.T.dot(X).I.dot(X.T)\n",
    "    w_opt = tmp.dot(y)\n",
    "    return w_opt "
   ]
  },
  {
   "cell_type": "code",
   "execution_count": 7,
   "metadata": {},
   "outputs": [
    {
     "name": "stdout",
     "output_type": "stream",
     "text": [
      "[[29.13609639]\n",
      " [13.8831196 ]\n",
      " [23.90748762]\n",
      " [15.65837088]\n",
      " [ 3.24212203]\n",
      " [ 9.37811779]\n",
      " [19.24877864]\n",
      " [18.1937358 ]\n",
      " [17.23837642]\n",
      " [27.61441905]\n",
      " [27.23604776]\n",
      " [13.07630422]\n",
      " [15.97861962]\n",
      " [13.6634685 ]\n",
      " [18.87309824]\n",
      " [ 5.79509821]\n",
      " [16.81365681]\n",
      " [ 6.84992721]\n",
      " [12.76833177]\n",
      " [ 4.87997583]\n",
      " [26.11020676]\n",
      " [ 5.44340128]\n",
      " [23.32026126]\n",
      " [26.49321354]\n",
      " [ 8.68762782]\n",
      " [17.78431028]\n",
      " [24.58837841]\n",
      " [27.00294918]\n",
      " [20.97962126]\n",
      " [ 6.38491489]\n",
      " [10.42363893]\n",
      " [ 4.2657438 ]\n",
      " [26.25678502]\n",
      " [ 2.01761249]\n",
      " [30.16546297]\n",
      " [22.15636718]\n",
      " [13.77829694]\n",
      " [17.39337387]\n",
      " [17.61386242]\n",
      " [ 5.57284735]\n",
      " [11.99933347]]\n"
     ]
    }
   ],
   "source": [
    "w_opt = calculate_w_opt(X,y)\n",
    "print(w_opt)\n"
   ]
  },
  {
   "cell_type": "code",
   "execution_count": 8,
   "metadata": {},
   "outputs": [
    {
     "name": "stdout",
     "output_type": "stream",
     "text": [
      "[[29]\n",
      " [14]\n",
      " [26]\n",
      " [15]\n",
      " [ 3]\n",
      " [10]\n",
      " [18]\n",
      " [17]\n",
      " [14]\n",
      " [27]\n",
      " [28]\n",
      " [11]\n",
      " [17]\n",
      " [13]\n",
      " [20]\n",
      " [ 8]\n",
      " [18]\n",
      " [ 6]\n",
      " [11]\n",
      " [ 6]\n",
      " [26]\n",
      " [ 5]\n",
      " [21]\n",
      " [27]\n",
      " [10]\n",
      " [19]\n",
      " [24]\n",
      " [27]\n",
      " [21]\n",
      " [ 6]\n",
      " [11]\n",
      " [ 5]\n",
      " [25]\n",
      " [ 4]\n",
      " [29]\n",
      " [23]\n",
      " [12]\n",
      " [17]\n",
      " [19]\n",
      " [ 5]\n",
      " [13]]\n"
     ]
    }
   ],
   "source": [
    "print(w)"
   ]
  },
  {
   "cell_type": "markdown",
   "metadata": {},
   "source": [
    "# Calculate the minimum and maximum eigenvalue of the Hessian matrix, and derive the upper bound on the learning rate $\\eta $ in gradient descent."
   ]
  },
  {
   "cell_type": "code",
   "execution_count": 9,
   "metadata": {},
   "outputs": [],
   "source": [
    "H = X.T.dot(X)\n",
    "#print(H.shape)\n",
    "eigenVal, eigenVec = LA.eig(H)"
   ]
  },
  {
   "cell_type": "code",
   "execution_count": 10,
   "metadata": {},
   "outputs": [
    {
     "name": "stdout",
     "output_type": "stream",
     "text": [
      "(41,)\n",
      "(41, 41)\n"
     ]
    }
   ],
   "source": [
    "print(eigenVal.shape)\n",
    "print(eigenVec.shape)"
   ]
  },
  {
   "cell_type": "code",
   "execution_count": 11,
   "metadata": {},
   "outputs": [],
   "source": [
    "eigenVal.sort()"
   ]
  },
  {
   "cell_type": "code",
   "execution_count": 12,
   "metadata": {},
   "outputs": [
    {
     "data": {
      "text/plain": [
       "array([ 11.56042907,  15.61653163,  16.95125676,  23.12965993,\n",
       "        27.14136375,  29.90352821,  33.14345237,  34.30656576,\n",
       "        34.76175589,  41.93060169,  47.15720366,  50.87660981,\n",
       "        52.04029865,  56.50154343,  58.55009029,  65.58743738,\n",
       "        68.56376602,  69.93495064,  75.01019269,  83.50319835,\n",
       "        84.39915841,  87.48836045,  89.98728921, 102.67389926,\n",
       "       104.54000111, 110.2814098 , 115.65205001, 118.14736355,\n",
       "       124.87521243, 134.25222527, 135.2918731 , 137.78525741,\n",
       "       154.00568673, 161.99541243, 168.60321975, 177.04486622,\n",
       "       180.54984383, 190.25681725, 212.17006893, 221.19890374,\n",
       "       251.63084904])"
      ]
     },
     "execution_count": 12,
     "metadata": {},
     "output_type": "execute_result"
    }
   ],
   "source": [
    "eigenVal"
   ]
  },
  {
   "cell_type": "code",
   "execution_count": 13,
   "metadata": {},
   "outputs": [
    {
     "name": "stdout",
     "output_type": "stream",
     "text": [
      "251.63084904376393\n",
      "11.560429068410226\n"
     ]
    }
   ],
   "source": [
    "max_eigenVal = eigenVal[-1]\n",
    "min_eigenVal = eigenVal[0]\n",
    "print(max_eigenVal)\n",
    "print(min_eigenVal)"
   ]
  },
  {
   "cell_type": "markdown",
   "metadata": {},
   "source": [
    "# Derive the upper bound on the learning rate $\\eta $ in gradient descent"
   ]
  },
  {
   "cell_type": "code",
   "execution_count": 14,
   "metadata": {},
   "outputs": [
    {
     "name": "stdout",
     "output_type": "stream",
     "text": [
      "0.9121518832133709\n",
      "0.007599036010409071\n"
     ]
    }
   ],
   "source": [
    "# The upper bound on the learning rate lr in gradient descent\n",
    "upper_bound = (max_eigenVal-min_eigenVal)/(max_eigenVal+min_eigenVal)\n",
    "print(upper_bound)\n",
    "# The theoretical bound lr0:\n",
    "lr0 = 2/(max_eigenVal + min_eigenVal)\n",
    "print(lr0)"
   ]
  },
  {
   "cell_type": "markdown",
   "metadata": {},
   "source": [
    "# Run Gradient Descent on the data set with 6 choices of learning rate:$\\eta \\in \\left \\{ 0.01\\eta _{0}, 0.1\\eta _{0}, \\eta _{0}, 2\\eta _{0}, 20\\eta _{0}, 100\\eta _{0}\\right \\}$"
   ]
  },
  {
   "cell_type": "code",
   "execution_count": 15,
   "metadata": {},
   "outputs": [],
   "source": [
    "# Define a function to implement Gradient Descent\n",
    "# Input:\n",
    "# X :nx(d+1)\n",
    "# y: nx1\n",
    "# w0: (d+1)x1\n",
    "# lr: learning rate\n",
    "# t: the number of iteration\n",
    "# Output:\n",
    "# w_list: a list of w for every iteration\n",
    "def Gradient_Descent(X, y, w0, lr, t):\n",
    "    w_list = []\n",
    "    wt = w0\n",
    "    for i in range(t):\n",
    "        gradient = X.T.dot(X).dot(wt) - X.T.dot(y)\n",
    "        wt = wt - lr*gradient\n",
    "        w_list.append(wt)\n",
    "    return w_list"
   ]
  },
  {
   "cell_type": "code",
   "execution_count": 16,
   "metadata": {},
   "outputs": [],
   "source": [
    "# Define a function to calculate ||Wt - W*||\n",
    "# Input:\n",
    "# w_list: a list of wt\n",
    "# w_opt: W*\n",
    "def norm2_Wt_W_opt(w_list, w_opt):\n",
    "    norm_list = []\n",
    "    for i in range(len(w_list)):\n",
    "        norm = np.linalg.norm(w_list[i]-w_opt, ord=2)\n",
    "        norm_list.append(norm)\n",
    "    return norm_list"
   ]
  },
  {
   "cell_type": "code",
   "execution_count": 17,
   "metadata": {},
   "outputs": [],
   "source": [
    "# Plot the curves for 6 learning Rates\n",
    "w0 = np.array([[0] for x in range(d+1)])\n",
    "#lr0 = 0.001\n",
    "t = 100\n",
    "lr_list = [0.01*lr0, 0.1*lr0, lr0, 2*lr0, 20*lr0, 100*lr0]\n",
    "w_list0 = Gradient_Descent(X, y, w0, lr_list[0], t)\n",
    "w_list1 = Gradient_Descent(X, y, w0, lr_list[1], t)\n",
    "w_list2 = Gradient_Descent(X, y, w0, lr_list[2], t)\n",
    "w_list3 = Gradient_Descent(X, y, w0, lr_list[3], t)\n",
    "w_list4 = Gradient_Descent(X, y, w0, lr_list[4], t)\n",
    "w_list5 = Gradient_Descent(X, y, w0, lr_list[5], t)\n",
    "\n",
    "norm2_0 = norm2_Wt_W_opt(w_list0, w_opt)\n",
    "norm2_1 = norm2_Wt_W_opt(w_list1, w_opt)\n",
    "norm2_2 = norm2_Wt_W_opt(w_list2, w_opt)\n",
    "norm2_3 = norm2_Wt_W_opt(w_list3, w_opt)\n",
    "norm2_4 = norm2_Wt_W_opt(w_list4, w_opt)\n",
    "norm2_5 = norm2_Wt_W_opt(w_list5, w_opt)"
   ]
  },
  {
   "cell_type": "markdown",
   "metadata": {},
   "source": [
    "# Plot the curve of $\\left \\| w^{t} -w^{*}\\right \\|_{2}  v.s.   t$  for $1\\leq t\\leq 100$"
   ]
  },
  {
   "cell_type": "code",
   "execution_count": 18,
   "metadata": {},
   "outputs": [
    {
     "name": "stderr",
     "output_type": "stream",
     "text": [
      "/Users/wangchenxu/opt/anaconda3/envs/tensorflow/lib/python3.7/site-packages/ipykernel_launcher.py:2: MatplotlibDeprecationWarning: Case-insensitive properties were deprecated in 3.3 and support will be removed two minor releases later\n",
      "  \n",
      "/Users/wangchenxu/opt/anaconda3/envs/tensorflow/lib/python3.7/site-packages/ipykernel_launcher.py:3: MatplotlibDeprecationWarning: Case-insensitive properties were deprecated in 3.3 and support will be removed two minor releases later\n",
      "  This is separate from the ipykernel package so we can avoid doing imports until\n",
      "/Users/wangchenxu/opt/anaconda3/envs/tensorflow/lib/python3.7/site-packages/ipykernel_launcher.py:4: MatplotlibDeprecationWarning: Case-insensitive properties were deprecated in 3.3 and support will be removed two minor releases later\n",
      "  after removing the cwd from sys.path.\n"
     ]
    },
    {
     "data": {
      "image/png": "[encoded data removed]",
      "text/plain": [
       "<Figure size 720x504 with 1 Axes>"
      ]
     },
     "metadata": {
      "needs_background": "light"
     },
     "output_type": "display_data"
    }
   ],
   "source": [
    "fig = plt.figure(figsize=(10, 7))\n",
    "plt.plot(range(100), norm2_0, '-.r', LineWidth=2,label='lr = 0.01*lr0')\n",
    "plt.plot(range(100), norm2_1, '-.b', LineWidth=2,label='lr = 0.1*lr0')\n",
    "plt.plot(range(100), norm2_2, '-.g', LineWidth=2,label='lr = lr0')\n",
    "#plt.plot(range(100), norm2_3, '-.c', LineWidth=2,label='lr = 2*lr0')\n",
    "#plt.plot(range(100), norm2_4, '-.m', LineWidth=2,label='lr = 20*lr0')\n",
    "#plt.plot(range(100), norm2_5, '-.y', LineWidth=2,label='lr = 100*lr0')\n",
    "\n",
    "plt.legend()\n",
    "plt.tight_layout()\n",
    "plt.xlabel(\"t\")\n",
    "plt.ylabel('||wt-w*||_2')\n",
    "plt.show()"
   ]
  },
  {
   "cell_type": "code",
   "execution_count": 19,
   "metadata": {},
   "outputs": [
    {
     "name": "stderr",
     "output_type": "stream",
     "text": [
      "/Users/wangchenxu/opt/anaconda3/envs/tensorflow/lib/python3.7/site-packages/ipykernel_launcher.py:2: MatplotlibDeprecationWarning: Case-insensitive properties were deprecated in 3.3 and support will be removed two minor releases later\n",
      "  \n",
      "/Users/wangchenxu/opt/anaconda3/envs/tensorflow/lib/python3.7/site-packages/ipykernel_launcher.py:3: MatplotlibDeprecationWarning: Case-insensitive properties were deprecated in 3.3 and support will be removed two minor releases later\n",
      "  This is separate from the ipykernel package so we can avoid doing imports until\n",
      "/Users/wangchenxu/opt/anaconda3/envs/tensorflow/lib/python3.7/site-packages/ipykernel_launcher.py:4: MatplotlibDeprecationWarning: Case-insensitive properties were deprecated in 3.3 and support will be removed two minor releases later\n",
      "  after removing the cwd from sys.path.\n"
     ]
    },
    {
     "data": {
      "image/png": "[encoded data removed]",
      "text/plain": [
       "<Figure size 720x504 with 1 Axes>"
      ]
     },
     "metadata": {
      "needs_background": "light"
     },
     "output_type": "display_data"
    }
   ],
   "source": [
    "fig = plt.figure(figsize=(10, 7))\n",
    "plt.plot(range(100), norm2_3, '-.c', LineWidth=2,label='lr = 2*lr0')\n",
    "plt.plot(range(100), norm2_4, '-.m', LineWidth=2,label='lr = 20*lr0')\n",
    "plt.plot(range(100), norm2_5, '-.y', LineWidth=2,label='lr = 100*lr0')\n",
    "\n",
    "plt.legend()\n",
    "plt.tight_layout()\n",
    "plt.xlabel(\"t\")\n",
    "plt.ylabel('||wt-w*||_2')\n",
    "plt.show()"
   ]
  },
  {
   "cell_type": "markdown",
   "metadata": {},
   "source": [
    "If learning rate is too large, the gradient descent may not converge. On the other hand, \n",
    "if learning rate is too small, the gradient descent wil converge slowly.\n",
    "As the result in the plot, when lr = lr0, the GD can converage fast and use a few iterations. \n",
    "When lr = 0.01*lr0, the converagence cannot be reached in the 100 iterations. \n",
    "The model is strongly convex since ||wt-w*|| -->0.\n",
    "(Note that the last 3 curves cannot display in the same plot with the first curves since the norm2 of \n",
    "the last 3 curves will be very large. So, I display the last 3 curves respectively)"
   ]
  },
  {
   "cell_type": "markdown",
   "metadata": {},
   "source": [
    "# Consider n = 100 and d = 200, and generate X and y."
   ]
  },
  {
   "cell_type": "code",
   "execution_count": 20,
   "metadata": {},
   "outputs": [],
   "source": [
    "nn = 100\n",
    "dd = 200"
   ]
  },
  {
   "cell_type": "code",
   "execution_count": 21,
   "metadata": {},
   "outputs": [
    {
     "name": "stdout",
     "output_type": "stream",
     "text": [
      "(100, 201)\n",
      "(100, 1)\n",
      "(201, 1)\n"
     ]
    }
   ],
   "source": [
    "XX, yy, ww = generate_data(nn,dd)\n",
    "print(XX.shape)\n",
    "print(yy.shape)\n",
    "print(ww.shape)"
   ]
  },
  {
   "cell_type": "code",
   "execution_count": 22,
   "metadata": {},
   "outputs": [
    {
     "data": {
      "text/plain": [
       "array([[29],\n",
       "       [14],\n",
       "       [26],\n",
       "       [15],\n",
       "       [ 3],\n",
       "       [10],\n",
       "       [18],\n",
       "       [17],\n",
       "       [14],\n",
       "       [27],\n",
       "       [28],\n",
       "       [11],\n",
       "       [17],\n",
       "       [13],\n",
       "       [20],\n",
       "       [ 8],\n",
       "       [18],\n",
       "       [ 6],\n",
       "       [11],\n",
       "       [ 6],\n",
       "       [26],\n",
       "       [ 5],\n",
       "       [21],\n",
       "       [27],\n",
       "       [10],\n",
       "       [19],\n",
       "       [24],\n",
       "       [27],\n",
       "       [21],\n",
       "       [ 6],\n",
       "       [11],\n",
       "       [ 5],\n",
       "       [25],\n",
       "       [ 4],\n",
       "       [29],\n",
       "       [23],\n",
       "       [12],\n",
       "       [17],\n",
       "       [19],\n",
       "       [ 5],\n",
       "       [13],\n",
       "       [15],\n",
       "       [12],\n",
       "       [21],\n",
       "       [22],\n",
       "       [ 8],\n",
       "       [19],\n",
       "       [17],\n",
       "       [16],\n",
       "       [29],\n",
       "       [18],\n",
       "       [10],\n",
       "       [ 3],\n",
       "       [27],\n",
       "       [19],\n",
       "       [ 2],\n",
       "       [ 4],\n",
       "       [25],\n",
       "       [28],\n",
       "       [14],\n",
       "       [24],\n",
       "       [28],\n",
       "       [27],\n",
       "       [23],\n",
       "       [22],\n",
       "       [ 2],\n",
       "       [21],\n",
       "       [17],\n",
       "       [28],\n",
       "       [29],\n",
       "       [12],\n",
       "       [ 9],\n",
       "       [25],\n",
       "       [12],\n",
       "       [24],\n",
       "       [29],\n",
       "       [ 4],\n",
       "       [ 8],\n",
       "       [20],\n",
       "       [ 9],\n",
       "       [ 9],\n",
       "       [27],\n",
       "       [ 6],\n",
       "       [27],\n",
       "       [19],\n",
       "       [16],\n",
       "       [ 4],\n",
       "       [ 4],\n",
       "       [12],\n",
       "       [18],\n",
       "       [17],\n",
       "       [ 5],\n",
       "       [11],\n",
       "       [19],\n",
       "       [11],\n",
       "       [24],\n",
       "       [ 5],\n",
       "       [19],\n",
       "       [12],\n",
       "       [28],\n",
       "       [19],\n",
       "       [ 8],\n",
       "       [27],\n",
       "       [21],\n",
       "       [19],\n",
       "       [20],\n",
       "       [11],\n",
       "       [16],\n",
       "       [ 4],\n",
       "       [21],\n",
       "       [27],\n",
       "       [14],\n",
       "       [12],\n",
       "       [20],\n",
       "       [ 9],\n",
       "       [11],\n",
       "       [ 7],\n",
       "       [ 8],\n",
       "       [28],\n",
       "       [ 7],\n",
       "       [ 3],\n",
       "       [21],\n",
       "       [23],\n",
       "       [10],\n",
       "       [17],\n",
       "       [ 4],\n",
       "       [ 4],\n",
       "       [23],\n",
       "       [26],\n",
       "       [ 6],\n",
       "       [ 6],\n",
       "       [ 3],\n",
       "       [28],\n",
       "       [ 4],\n",
       "       [24],\n",
       "       [28],\n",
       "       [19],\n",
       "       [23],\n",
       "       [14],\n",
       "       [28],\n",
       "       [24],\n",
       "       [18],\n",
       "       [10],\n",
       "       [18],\n",
       "       [27],\n",
       "       [ 9],\n",
       "       [29],\n",
       "       [ 8],\n",
       "       [23],\n",
       "       [20],\n",
       "       [28],\n",
       "       [15],\n",
       "       [20],\n",
       "       [10],\n",
       "       [16],\n",
       "       [17],\n",
       "       [23],\n",
       "       [22],\n",
       "       [24],\n",
       "       [27],\n",
       "       [13],\n",
       "       [ 4],\n",
       "       [12],\n",
       "       [21],\n",
       "       [ 5],\n",
       "       [17],\n",
       "       [20],\n",
       "       [22],\n",
       "       [12],\n",
       "       [29],\n",
       "       [ 8],\n",
       "       [ 9],\n",
       "       [ 2],\n",
       "       [25],\n",
       "       [10],\n",
       "       [ 5],\n",
       "       [24],\n",
       "       [ 9],\n",
       "       [13],\n",
       "       [27],\n",
       "       [ 7],\n",
       "       [12],\n",
       "       [15],\n",
       "       [28],\n",
       "       [ 3],\n",
       "       [ 5],\n",
       "       [27],\n",
       "       [ 6],\n",
       "       [29],\n",
       "       [24],\n",
       "       [ 9],\n",
       "       [ 3],\n",
       "       [28],\n",
       "       [20],\n",
       "       [22],\n",
       "       [19],\n",
       "       [21],\n",
       "       [23],\n",
       "       [ 4],\n",
       "       [ 2],\n",
       "       [ 5]])"
      ]
     },
     "execution_count": 22,
     "metadata": {},
     "output_type": "execute_result"
    }
   ],
   "source": [
    "ww"
   ]
  },
  {
   "cell_type": "code",
   "execution_count": 23,
   "metadata": {},
   "outputs": [
    {
     "name": "stdout",
     "output_type": "stream",
     "text": [
      "[[ 7.17748969e+03]\n",
      " [ 1.26735395e+04]\n",
      " [-6.03724785e+03]\n",
      " [-2.09982804e+04]\n",
      " [-3.72391456e+03]\n",
      " [-1.28914319e+04]\n",
      " [ 1.62385494e+04]\n",
      " [ 1.79324938e+04]\n",
      " [ 9.68327385e+01]\n",
      " [ 3.22773290e+04]\n",
      " [ 1.50241041e+04]\n",
      " [ 1.65366552e+04]\n",
      " [-9.85274387e+03]\n",
      " [ 1.16065800e+04]\n",
      " [ 4.36334601e+04]\n",
      " [-3.54846807e+03]\n",
      " [-4.43720969e+03]\n",
      " [ 1.42124308e+04]\n",
      " [ 1.79398908e+04]\n",
      " [ 5.92047595e+03]\n",
      " [-1.91417445e+04]\n",
      " [-1.22625096e+04]\n",
      " [-2.03969164e+03]\n",
      " [-8.54374171e+03]\n",
      " [-1.46215117e+04]\n",
      " [ 2.42294422e+04]\n",
      " [-7.15620146e+03]\n",
      " [-3.21505971e+03]\n",
      " [-9.61889021e+03]\n",
      " [ 8.03304450e+03]\n",
      " [ 4.84180528e+04]\n",
      " [-7.82801782e+03]\n",
      " [-6.51599110e+03]\n",
      " [-7.34078063e+03]\n",
      " [-1.48468464e+04]\n",
      " [-1.67919158e+04]\n",
      " [-3.57770610e+04]\n",
      " [ 2.72402881e+04]\n",
      " [ 6.36296109e+04]\n",
      " [-1.68821827e+04]\n",
      " [-6.50929569e+03]\n",
      " [ 1.69844906e+04]\n",
      " [-3.15922185e+04]\n",
      " [ 3.40380231e+03]\n",
      " [ 5.03617760e+04]\n",
      " [-2.18805756e+04]\n",
      " [-5.92388658e+02]\n",
      " [ 3.06368199e+04]\n",
      " [-1.94889004e+04]\n",
      " [ 7.28139434e+03]\n",
      " [ 2.43639632e+03]\n",
      " [ 6.87105885e+03]\n",
      " [ 6.35088390e+04]\n",
      " [ 2.19712247e+04]\n",
      " [ 1.16662457e+03]\n",
      " [-1.81999624e+04]\n",
      " [ 2.06014239e+04]\n",
      " [ 1.75090764e+04]\n",
      " [-4.96562599e+04]\n",
      " [-1.20244538e+04]\n",
      " [-2.76623231e+03]\n",
      " [-9.76938437e+03]\n",
      " [-5.71340004e+03]\n",
      " [-2.56524486e+04]\n",
      " [ 2.83328301e+04]\n",
      " [ 6.58592576e+03]\n",
      " [ 4.08138167e+03]\n",
      " [-3.24400980e+04]\n",
      " [ 7.72921807e+03]\n",
      " [-3.27242904e+03]\n",
      " [-9.17292775e+03]\n",
      " [-3.15200091e+04]\n",
      " [ 1.54310852e+04]\n",
      " [-1.09032947e+04]\n",
      " [ 3.85069863e+04]\n",
      " [ 3.26487297e+03]\n",
      " [-2.02447891e+04]\n",
      " [ 3.22123202e+04]\n",
      " [ 2.06497679e+03]\n",
      " [ 3.09647898e+03]\n",
      " [ 1.37498807e+04]\n",
      " [-4.12557025e+03]\n",
      " [-9.76272377e+03]\n",
      " [-2.28540528e+03]\n",
      " [-3.54474053e+04]\n",
      " [-1.50247744e+04]\n",
      " [-2.14247281e+04]\n",
      " [-2.56128741e+03]\n",
      " [-8.31302809e+03]\n",
      " [-1.40546689e+04]\n",
      " [ 1.76617241e+04]\n",
      " [ 1.47033163e+04]\n",
      " [-1.24642119e+04]\n",
      " [-2.19707982e+04]\n",
      " [-1.32493799e+04]\n",
      " [ 4.31538261e+04]\n",
      " [ 2.28284414e+04]\n",
      " [ 5.40638475e+03]\n",
      " [-2.77252247e+04]\n",
      " [-2.24284152e+04]\n",
      " [ 6.41535412e+01]\n",
      " [ 5.88833203e+03]\n",
      " [-2.34849009e+03]\n",
      " [-2.17376611e+03]\n",
      " [-1.08680876e+03]\n",
      " [-2.00419596e+03]\n",
      " [-1.20422092e+03]\n",
      " [ 2.38232202e+03]\n",
      " [ 1.72039998e+03]\n",
      " [ 3.93833927e+03]\n",
      " [ 1.35062702e+02]\n",
      " [ 1.24553122e+03]\n",
      " [-1.14571824e+02]\n",
      " [ 6.19176324e+02]\n",
      " [-7.90236272e+02]\n",
      " [ 1.20939274e+03]\n",
      " [ 2.02553452e+03]\n",
      " [ 1.10820448e+03]\n",
      " [-2.12618725e+03]\n",
      " [-5.28753208e+02]\n",
      " [ 3.48556758e+03]\n",
      " [-7.40304874e+02]\n",
      " [-1.29709967e+03]\n",
      " [-2.57823484e+02]\n",
      " [-1.73707267e+03]\n",
      " [-2.15172806e+03]\n",
      " [ 1.98469654e+03]\n",
      " [ 4.56208495e+02]\n",
      " [-6.70173766e+02]\n",
      " [-8.38630186e+02]\n",
      " [-6.89455097e+01]\n",
      " [ 6.43441622e+02]\n",
      " [-1.42785641e+03]\n",
      " [ 1.08145627e+03]\n",
      " [ 1.08770129e+03]\n",
      " [-2.26584997e+03]\n",
      " [ 4.81876098e+02]\n",
      " [-4.61952996e+01]\n",
      " [-4.88310043e+02]\n",
      " [ 2.37366694e+03]\n",
      " [ 1.95314627e+02]\n",
      " [ 9.15781819e+01]\n",
      " [-1.05263851e+03]\n",
      " [ 1.87917069e+02]\n",
      " [ 2.51472881e+03]\n",
      " [-1.63099237e+03]\n",
      " [-7.85173944e+02]\n",
      " [-4.89055717e+01]\n",
      " [-1.20581330e+03]\n",
      " [-8.61632928e+02]\n",
      " [-4.38383570e+02]\n",
      " [-1.15422813e+02]\n",
      " [-4.02573597e+02]\n",
      " [ 1.08883542e+03]\n",
      " [-1.58186807e+02]\n",
      " [ 1.18609019e+03]\n",
      " [ 4.90127430e+01]\n",
      " [-5.95849609e+02]\n",
      " [ 4.53890446e+02]\n",
      " [-4.06449191e+02]\n",
      " [-8.96025753e+01]\n",
      " [-7.21078875e+02]\n",
      " [ 1.79064692e+02]\n",
      " [-1.36825855e+02]\n",
      " [ 1.36624348e+02]\n",
      " [-1.03738827e+02]\n",
      " [-9.95843850e+02]\n",
      " [ 3.35200572e+02]\n",
      " [ 9.34821422e+02]\n",
      " [ 9.39219261e+02]\n",
      " [-1.41031780e+03]\n",
      " [-3.06118073e+02]\n",
      " [ 2.53223340e+02]\n",
      " [-1.10865750e+03]\n",
      " [ 2.47141159e+02]\n",
      " [ 5.16267681e+02]\n",
      " [-4.76178513e+02]\n",
      " [-8.05549152e+02]\n",
      " [ 1.13515368e+02]\n",
      " [-7.04861018e+02]\n",
      " [-2.48590143e+02]\n",
      " [-3.53757470e+02]\n",
      " [-8.97339021e+02]\n",
      " [-4.45830406e+01]\n",
      " [ 4.73043740e+01]\n",
      " [-1.05968663e+02]\n",
      " [-1.57511851e+01]\n",
      " [ 6.59838209e+02]\n",
      " [-3.35799737e+02]\n",
      " [-4.42136262e+02]\n",
      " [-9.03903731e+01]\n",
      " [-2.70137186e+02]\n",
      " [-6.01157366e+01]\n",
      " [ 1.66977114e+02]\n",
      " [-2.78037942e+02]\n",
      " [ 3.48870114e+02]\n",
      " [-1.13854477e+01]\n",
      " [-4.96598813e+02]\n",
      " [-1.43284988e+02]\n",
      " [ 2.42901410e+02]\n",
      " [-1.68751684e+02]]\n"
     ]
    }
   ],
   "source": [
    "# Trying to calculate w*\n",
    "ww_opt = calculate_w_opt(XX,yy)\n",
    "print(ww_opt)"
   ]
  },
  {
   "cell_type": "markdown",
   "metadata": {},
   "source": [
    "There is big difference between w* and the real w. \n",
    "When the number of w is large than the number of samples. X.T*X is not invertible.\n",
    "Therefore, the result will not be calcuated correctly by directly calculating the formulation of w*."
   ]
  },
  {
   "cell_type": "code",
   "execution_count": 24,
   "metadata": {},
   "outputs": [],
   "source": [
    "HH = XX.T.dot(XX)\n",
    "#print(H.shape)\n",
    "eigenVall, eigenVecc = LA.eig(HH)"
   ]
  },
  {
   "cell_type": "code",
   "execution_count": 25,
   "metadata": {},
   "outputs": [
    {
     "name": "stdout",
     "output_type": "stream",
     "text": [
      "(201,)\n",
      "(201, 201)\n"
     ]
    }
   ],
   "source": [
    "print(eigenVall.shape)\n",
    "print(eigenVecc.shape)"
   ]
  },
  {
   "cell_type": "code",
   "execution_count": 28,
   "metadata": {},
   "outputs": [],
   "source": [
    "eigenVall.sort()"
   ]
  },
  {
   "cell_type": "code",
   "execution_count": 32,
   "metadata": {},
   "outputs": [
    {
     "name": "stdout",
     "output_type": "stream",
     "text": [
      "(549.9256704324822+0j)\n",
      "(-1.0278628316152719e-13-2.0344552919422622e-14j)\n"
     ]
    }
   ],
   "source": [
    "#eigenVall\n",
    "max_eigenVall = eigenVall[-1]\n",
    "min_eigenVall = eigenVall[0]\n",
    "print(max_eigenVall)\n",
    "print(min_eigenVall)"
   ]
  },
  {
   "cell_type": "code",
   "execution_count": 33,
   "metadata": {},
   "outputs": [
    {
     "name": "stdout",
     "output_type": "stream",
     "text": [
      "(0.0036368551379445976+1.3454580462846784e-19j)\n"
     ]
    }
   ],
   "source": [
    "# The theoretical bound lr0:\n",
    "lrr0 = 2/(max_eigenVall + min_eigenVall)\n",
    "print(lrr0)"
   ]
  },
  {
   "cell_type": "code",
   "execution_count": 39,
   "metadata": {},
   "outputs": [],
   "source": [
    "ww0 = np.array([[0] for x in range(dd+1)])\n",
    "lrr0 = 0.0036\n",
    "t = 100\n",
    "lr_list = [0.01*lrr0, 0.1*lrr0, lrr0, 2*lrr0, 20*lrr0, 100*lrr0]\n",
    "ww_list0 = Gradient_Descent(XX, yy, ww0, lr_list[0], t)\n",
    "ww_list1 = Gradient_Descent(XX, yy, ww0, lr_list[1], t)\n",
    "ww_list2 = Gradient_Descent(XX, yy, ww0, lr_list[2], t)\n",
    "ww_list3 = Gradient_Descent(XX, yy, ww0, lr_list[3], t)\n",
    "ww_list4 = Gradient_Descent(XX, yy, ww0, lr_list[4], t)\n",
    "ww_list5 = Gradient_Descent(XX, yy, ww0, lr_list[5], t)"
   ]
  },
  {
   "cell_type": "code",
   "execution_count": 40,
   "metadata": {},
   "outputs": [],
   "source": [
    "#ww_list0[-2]"
   ]
  },
  {
   "cell_type": "code",
   "execution_count": 41,
   "metadata": {},
   "outputs": [],
   "source": [
    "\n",
    "# Define a function to calculate F(wt) = 1/2||y - XW||**2\n",
    "# Input:\n",
    "# w_list: a list of wt\n",
    "# X\n",
    "# y\n",
    "def F_wt(w_list, X, y):\n",
    "    Fw_list = []\n",
    "    for i in range(len(w_list)):\n",
    "        fw =0.5*pow(np.linalg.norm(y- X.dot(w_list[i]), ord=2), 2)\n",
    "        Fw_list.append(fw)\n",
    "    return Fw_list"
   ]
  },
  {
   "cell_type": "code",
   "execution_count": 42,
   "metadata": {},
   "outputs": [
    {
     "name": "stderr",
     "output_type": "stream",
     "text": [
      "/Users/wangchenxu/opt/anaconda3/envs/tensorflow/lib/python3.7/site-packages/ipykernel_launcher.py:9: RuntimeWarning: overflow encountered in double_scalars\n",
      "  if __name__ == '__main__':\n"
     ]
    }
   ],
   "source": [
    "Fw_list0 = F_wt(ww_list0, XX, yy)\n",
    "Fw_list1 = F_wt(ww_list1, XX, yy)\n",
    "Fw_list2 = F_wt(ww_list2, XX, yy)\n",
    "Fw_list3 = F_wt(ww_list3, XX, yy)\n",
    "Fw_list4 = F_wt(ww_list4, XX, yy)\n",
    "Fw_list5 = F_wt(ww_list5, XX, yy)"
   ]
  },
  {
   "cell_type": "code",
   "execution_count": 43,
   "metadata": {},
   "outputs": [
    {
     "name": "stderr",
     "output_type": "stream",
     "text": [
      "/Users/wangchenxu/opt/anaconda3/envs/tensorflow/lib/python3.7/site-packages/ipykernel_launcher.py:2: MatplotlibDeprecationWarning: Case-insensitive properties were deprecated in 3.3 and support will be removed two minor releases later\n",
      "  \n",
      "/Users/wangchenxu/opt/anaconda3/envs/tensorflow/lib/python3.7/site-packages/ipykernel_launcher.py:3: MatplotlibDeprecationWarning: Case-insensitive properties were deprecated in 3.3 and support will be removed two minor releases later\n",
      "  This is separate from the ipykernel package so we can avoid doing imports until\n",
      "/Users/wangchenxu/opt/anaconda3/envs/tensorflow/lib/python3.7/site-packages/ipykernel_launcher.py:4: MatplotlibDeprecationWarning: Case-insensitive properties were deprecated in 3.3 and support will be removed two minor releases later\n",
      "  after removing the cwd from sys.path.\n"
     ]
    },
    {
     "data": {
      "image/png": "[encoded data removed]",
      "text/plain": [
       "<Figure size 720x504 with 1 Axes>"
      ]
     },
     "metadata": {
      "needs_background": "light"
     },
     "output_type": "display_data"
    }
   ],
   "source": [
    "fig = plt.figure(figsize=(10, 7))\n",
    "plt.plot(range(100), Fw_list0, '-.r', LineWidth=2,label='lr =0.001*lrr0')\n",
    "plt.plot(range(100), Fw_list1, '-.b', LineWidth=2,label='lr =0.01*lrr0')\n",
    "plt.plot(range(100), Fw_list2, '-.g', LineWidth=2,label='lr =lrr0')\n",
    "#plt.plot(range(100), Fw_list3, '-.c', LineWidth=2,label='lr =2*lrr0')\n",
    "#plt.plot(range(100), Fw_list4, '-.m', LineWidth=2,label='lr =20*lrr0')\n",
    "#plt.plot(range(100), Fw_list5, '-.y', LineWidth=2,label='lr =100*lrr0')\n",
    "\n",
    "\n",
    "plt.legend()\n",
    "plt.tight_layout()\n",
    "plt.xlabel(\"t\")\n",
    "plt.ylabel('Fw')\n",
    "plt.show()"
   ]
  },
  {
   "cell_type": "markdown",
   "metadata": {},
   "source": [
    "There are many lines which come to convergence. When choosing lrr0 = 0.0036, we find that the curve(lrr = lrr0) will perform best. It can converage fast and use fewer iterations. Therefore, for the condition(n = 100, d = 200), we can apply GD. "
   ]
  },
  {
   "cell_type": "code",
   "execution_count": 44,
   "metadata": {},
   "outputs": [
    {
     "name": "stderr",
     "output_type": "stream",
     "text": [
      "/Users/wangchenxu/opt/anaconda3/envs/tensorflow/lib/python3.7/site-packages/ipykernel_launcher.py:2: MatplotlibDeprecationWarning: Case-insensitive properties were deprecated in 3.3 and support will be removed two minor releases later\n",
      "  \n",
      "/Users/wangchenxu/opt/anaconda3/envs/tensorflow/lib/python3.7/site-packages/ipykernel_launcher.py:3: MatplotlibDeprecationWarning: Case-insensitive properties were deprecated in 3.3 and support will be removed two minor releases later\n",
      "  This is separate from the ipykernel package so we can avoid doing imports until\n",
      "/Users/wangchenxu/opt/anaconda3/envs/tensorflow/lib/python3.7/site-packages/ipykernel_launcher.py:4: MatplotlibDeprecationWarning: Case-insensitive properties were deprecated in 3.3 and support will be removed two minor releases later\n",
      "  after removing the cwd from sys.path.\n"
     ]
    },
    {
     "data": {
      "image/png": "[encoded data removed]",
      "text/plain": [
       "<Figure size 720x504 with 1 Axes>"
      ]
     },
     "metadata": {
      "needs_background": "light"
     },
     "output_type": "display_data"
    }
   ],
   "source": [
    "fig = plt.figure(figsize=(10, 7))\n",
    "plt.plot(range(100), Fw_list3, '-.c', LineWidth=2,label='lr =2*lrr0')\n",
    "plt.plot(range(100), Fw_list4, '-.m', LineWidth=2,label='lr =20*lrr0')\n",
    "plt.plot(range(100), Fw_list5, '-.y', LineWidth=2,label='lr =100*lrr0')\n",
    "\n",
    "plt.legend()\n",
    "plt.tight_layout()\n",
    "plt.xlabel(\"t\")\n",
    "plt.ylabel('Fw')\n",
    "plt.show()"
   ]
  },
  {
   "cell_type": "code",
   "execution_count": null,
   "metadata": {},
   "outputs": [],
   "source": []
  }
 ],
 "metadata": {
  "kernelspec": {
   "display_name": "Python 3",
   "language": "python",
   "name": "python3"
  },
  "language_info": {
   "codemirror_mode": {
    "name": "ipython",
    "version": 3
   },
   "file_extension": ".py",
   "mimetype": "text/x-python",
   "name": "python",
   "nbconvert_exporter": "python",
   "pygments_lexer": "ipython3",
   "version": "3.7.9"
  }
 },
 "nbformat": 4,
 "nbformat_minor": 4
}
