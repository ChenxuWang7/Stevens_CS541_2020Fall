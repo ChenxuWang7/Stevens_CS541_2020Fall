{
 "cells": [
  {
   "cell_type": "markdown",
   "metadata": {},
   "source": [
    "# CS541 Assignment4 \n",
    "Student Name: Chenxu Wang  \n",
    "CWID: 10457625  \n",
    "E-mail: cwang101@stevens.edu  "
   ]
  },
  {
   "cell_type": "code",
   "execution_count": 55,
   "metadata": {},
   "outputs": [],
   "source": [
    "import pandas as pd\n",
    "import numpy as np\n",
    "import matplotlib.pyplot as plt\n",
    "from numpy import linalg as LA\n",
    "import math"
   ]
  },
  {
   "cell_type": "markdown",
   "metadata": {},
   "source": [
    "# 1.Data Set"
   ]
  },
  {
   "cell_type": "code",
   "execution_count": 56,
   "metadata": {},
   "outputs": [],
   "source": [
    "data = pd.read_csv('ratings.csv', usecols=[0, 1, 2])"
   ]
  },
  {
   "cell_type": "code",
   "execution_count": 57,
   "metadata": {},
   "outputs": [
    {
     "data": {
      "text/html": [
       "<div>\n",
       "<style scoped>\n",
       "    .dataframe tbody tr th:only-of-type {\n",
       "        vertical-align: middle;\n",
       "    }\n",
       "\n",
       "    .dataframe tbody tr th {\n",
       "        vertical-align: top;\n",
       "    }\n",
       "\n",
       "    .dataframe thead th {\n",
       "        text-align: right;\n",
       "    }\n",
       "</style>\n",
       "<table border=\"1\" class=\"dataframe\">\n",
       "  <thead>\n",
       "    <tr style=\"text-align: right;\">\n",
       "      <th></th>\n",
       "      <th>userId</th>\n",
       "      <th>movieId</th>\n",
       "      <th>rating</th>\n",
       "    </tr>\n",
       "  </thead>\n",
       "  <tbody>\n",
       "    <tr>\n",
       "      <th>0</th>\n",
       "      <td>1</td>\n",
       "      <td>1</td>\n",
       "      <td>4.0</td>\n",
       "    </tr>\n",
       "    <tr>\n",
       "      <th>1</th>\n",
       "      <td>1</td>\n",
       "      <td>3</td>\n",
       "      <td>4.0</td>\n",
       "    </tr>\n",
       "    <tr>\n",
       "      <th>2</th>\n",
       "      <td>1</td>\n",
       "      <td>6</td>\n",
       "      <td>4.0</td>\n",
       "    </tr>\n",
       "    <tr>\n",
       "      <th>3</th>\n",
       "      <td>1</td>\n",
       "      <td>47</td>\n",
       "      <td>5.0</td>\n",
       "    </tr>\n",
       "    <tr>\n",
       "      <th>4</th>\n",
       "      <td>1</td>\n",
       "      <td>50</td>\n",
       "      <td>5.0</td>\n",
       "    </tr>\n",
       "    <tr>\n",
       "      <th>...</th>\n",
       "      <td>...</td>\n",
       "      <td>...</td>\n",
       "      <td>...</td>\n",
       "    </tr>\n",
       "    <tr>\n",
       "      <th>100831</th>\n",
       "      <td>610</td>\n",
       "      <td>166534</td>\n",
       "      <td>4.0</td>\n",
       "    </tr>\n",
       "    <tr>\n",
       "      <th>100832</th>\n",
       "      <td>610</td>\n",
       "      <td>168248</td>\n",
       "      <td>5.0</td>\n",
       "    </tr>\n",
       "    <tr>\n",
       "      <th>100833</th>\n",
       "      <td>610</td>\n",
       "      <td>168250</td>\n",
       "      <td>5.0</td>\n",
       "    </tr>\n",
       "    <tr>\n",
       "      <th>100834</th>\n",
       "      <td>610</td>\n",
       "      <td>168252</td>\n",
       "      <td>5.0</td>\n",
       "    </tr>\n",
       "    <tr>\n",
       "      <th>100835</th>\n",
       "      <td>610</td>\n",
       "      <td>170875</td>\n",
       "      <td>3.0</td>\n",
       "    </tr>\n",
       "  </tbody>\n",
       "</table>\n",
       "<p>100836 rows × 3 columns</p>\n",
       "</div>"
      ],
      "text/plain": [
       "        userId  movieId  rating\n",
       "0            1        1     4.0\n",
       "1            1        3     4.0\n",
       "2            1        6     4.0\n",
       "3            1       47     5.0\n",
       "4            1       50     5.0\n",
       "...        ...      ...     ...\n",
       "100831     610   166534     4.0\n",
       "100832     610   168248     5.0\n",
       "100833     610   168250     5.0\n",
       "100834     610   168252     5.0\n",
       "100835     610   170875     3.0\n",
       "\n",
       "[100836 rows x 3 columns]"
      ]
     },
     "execution_count": 57,
     "metadata": {},
     "output_type": "execute_result"
    }
   ],
   "source": [
    "data"
   ]
  },
  {
   "cell_type": "code",
   "execution_count": 60,
   "metadata": {},
   "outputs": [
    {
     "name": "stdout",
     "output_type": "stream",
     "text": [
      "(610, 3)\n"
     ]
    }
   ],
   "source": [
    "data1= data.drop_duplicates(subset=[\"userId\"], keep='first', inplace=False)\n",
    "print(data1.shape)"
   ]
  },
  {
   "cell_type": "code",
   "execution_count": 61,
   "metadata": {},
   "outputs": [
    {
     "name": "stdout",
     "output_type": "stream",
     "text": [
      "(9724, 3)\n"
     ]
    }
   ],
   "source": [
    "data2= data.drop_duplicates(subset=[\"movieId\"], keep='first', inplace=False)\n",
    "print(data2.shape)"
   ]
  },
  {
   "cell_type": "code",
   "execution_count": 62,
   "metadata": {},
   "outputs": [],
   "source": [
    "#p = max(data[\"movieId\"])\n",
    "#print(p)\n",
    "#row_list = data[data.movieId ==47].index.tolist()\n",
    "#print(row_list)"
   ]
  },
  {
   "cell_type": "markdown",
   "metadata": {},
   "source": [
    "Suppose there are n users and p movies. Then the shape of the rating matrix M is nxp. "
   ]
  },
  {
   "cell_type": "code",
   "execution_count": 63,
   "metadata": {},
   "outputs": [],
   "source": [
    "# The number of users\n",
    "n = 610\n",
    "# The number of movies\n",
    "p = 9724\n",
    "M = np.zeros((n,p))"
   ]
  },
  {
   "cell_type": "code",
   "execution_count": 64,
   "metadata": {},
   "outputs": [],
   "source": [
    "# Put movies into a Set for getting the index.\n",
    "movieId = data[\"movieId\"].tolist()\n",
    "list_of_movie = list(set(movieId))\n",
    "#print(len(num_of_moive))"
   ]
  },
  {
   "cell_type": "code",
   "execution_count": 65,
   "metadata": {},
   "outputs": [],
   "source": [
    "# Generate matrix M\n",
    "for i in range(len(data)):\n",
    "    row = int(data.loc[i][\"userId\"]) - 1\n",
    "    movieId = int(data.loc[i][\"movieId\"])\n",
    "    col = list_of_movie.index(movieId)\n",
    "    rating_value = int(data.loc[i][\"rating\"])\n",
    "    M[row][col] = rating_value"
   ]
  },
  {
   "cell_type": "code",
   "execution_count": 66,
   "metadata": {},
   "outputs": [
    {
     "data": {
      "text/plain": [
       "(610, 9724)"
      ]
     },
     "execution_count": 66,
     "metadata": {},
     "output_type": "execute_result"
    }
   ],
   "source": [
    "M.shape"
   ]
  },
  {
   "cell_type": "code",
   "execution_count": 67,
   "metadata": {},
   "outputs": [],
   "source": [
    "# Denote the index set of observed entries by Omega"
   ]
  },
  {
   "cell_type": "code",
   "execution_count": 68,
   "metadata": {},
   "outputs": [],
   "source": [
    "d1 = data['userId'].map(lambda x: x-1)\n",
    "d2 = data['movieId'].map(lambda x: list_of_movie.index(x))\n",
    "frames = [d1, d2]\n",
    "Omega = pd.concat(frames, axis=1)\n",
    "Omega.columns = ['Row', 'Col']\n"
   ]
  },
  {
   "cell_type": "code",
   "execution_count": 69,
   "metadata": {},
   "outputs": [
    {
     "data": {
      "text/html": [
       "<div>\n",
       "<style scoped>\n",
       "    .dataframe tbody tr th:only-of-type {\n",
       "        vertical-align: middle;\n",
       "    }\n",
       "\n",
       "    .dataframe tbody tr th {\n",
       "        vertical-align: top;\n",
       "    }\n",
       "\n",
       "    .dataframe thead th {\n",
       "        text-align: right;\n",
       "    }\n",
       "</style>\n",
       "<table border=\"1\" class=\"dataframe\">\n",
       "  <thead>\n",
       "    <tr style=\"text-align: right;\">\n",
       "      <th></th>\n",
       "      <th>Row</th>\n",
       "      <th>Col</th>\n",
       "    </tr>\n",
       "  </thead>\n",
       "  <tbody>\n",
       "    <tr>\n",
       "      <th>0</th>\n",
       "      <td>0</td>\n",
       "      <td>0</td>\n",
       "    </tr>\n",
       "    <tr>\n",
       "      <th>1</th>\n",
       "      <td>0</td>\n",
       "      <td>2</td>\n",
       "    </tr>\n",
       "    <tr>\n",
       "      <th>2</th>\n",
       "      <td>0</td>\n",
       "      <td>5</td>\n",
       "    </tr>\n",
       "    <tr>\n",
       "      <th>3</th>\n",
       "      <td>0</td>\n",
       "      <td>46</td>\n",
       "    </tr>\n",
       "    <tr>\n",
       "      <th>4</th>\n",
       "      <td>0</td>\n",
       "      <td>49</td>\n",
       "    </tr>\n",
       "    <tr>\n",
       "      <th>...</th>\n",
       "      <td>...</td>\n",
       "      <td>...</td>\n",
       "    </tr>\n",
       "    <tr>\n",
       "      <th>100831</th>\n",
       "      <td>609</td>\n",
       "      <td>2291</td>\n",
       "    </tr>\n",
       "    <tr>\n",
       "      <th>100832</th>\n",
       "      <td>609</td>\n",
       "      <td>3714</td>\n",
       "    </tr>\n",
       "    <tr>\n",
       "      <th>100833</th>\n",
       "      <td>609</td>\n",
       "      <td>3716</td>\n",
       "    </tr>\n",
       "    <tr>\n",
       "      <th>100834</th>\n",
       "      <td>609</td>\n",
       "      <td>3718</td>\n",
       "    </tr>\n",
       "    <tr>\n",
       "      <th>100835</th>\n",
       "      <td>609</td>\n",
       "      <td>5531</td>\n",
       "    </tr>\n",
       "  </tbody>\n",
       "</table>\n",
       "<p>100836 rows × 2 columns</p>\n",
       "</div>"
      ],
      "text/plain": [
       "        Row   Col\n",
       "0         0     0\n",
       "1         0     2\n",
       "2         0     5\n",
       "3         0    46\n",
       "4         0    49\n",
       "...     ...   ...\n",
       "100831  609  2291\n",
       "100832  609  3714\n",
       "100833  609  3716\n",
       "100834  609  3718\n",
       "100835  609  5531\n",
       "\n",
       "[100836 rows x 2 columns]"
      ]
     },
     "execution_count": 69,
     "metadata": {},
     "output_type": "execute_result"
    }
   ],
   "source": [
    "Omega"
   ]
  },
  {
   "cell_type": "code",
   "execution_count": 70,
   "metadata": {},
   "outputs": [],
   "source": [
    "# Divide Omega into Omega1 and Omega2\n",
    "# Omega1 is as training\n",
    "# Omega2 is as testing\n",
    "from sklearn.model_selection import train_test_split\n",
    "Omega1, Omega2 = train_test_split(Omega, test_size=0.1, random_state=0)"
   ]
  },
  {
   "cell_type": "code",
   "execution_count": 71,
   "metadata": {},
   "outputs": [
    {
     "data": {
      "text/html": [
       "<div>\n",
       "<style scoped>\n",
       "    .dataframe tbody tr th:only-of-type {\n",
       "        vertical-align: middle;\n",
       "    }\n",
       "\n",
       "    .dataframe tbody tr th {\n",
       "        vertical-align: top;\n",
       "    }\n",
       "\n",
       "    .dataframe thead th {\n",
       "        text-align: right;\n",
       "    }\n",
       "</style>\n",
       "<table border=\"1\" class=\"dataframe\">\n",
       "  <thead>\n",
       "    <tr style=\"text-align: right;\">\n",
       "      <th></th>\n",
       "      <th>Row</th>\n",
       "      <th>Col</th>\n",
       "    </tr>\n",
       "  </thead>\n",
       "  <tbody>\n",
       "    <tr>\n",
       "      <th>17701</th>\n",
       "      <td>110</td>\n",
       "      <td>8978</td>\n",
       "    </tr>\n",
       "    <tr>\n",
       "      <th>24098</th>\n",
       "      <td>166</td>\n",
       "      <td>988</td>\n",
       "    </tr>\n",
       "    <tr>\n",
       "      <th>2637</th>\n",
       "      <td>18</td>\n",
       "      <td>1687</td>\n",
       "    </tr>\n",
       "    <tr>\n",
       "      <th>97861</th>\n",
       "      <td>605</td>\n",
       "      <td>2712</td>\n",
       "    </tr>\n",
       "    <tr>\n",
       "      <th>43497</th>\n",
       "      <td>291</td>\n",
       "      <td>107</td>\n",
       "    </tr>\n",
       "    <tr>\n",
       "      <th>...</th>\n",
       "      <td>...</td>\n",
       "      <td>...</td>\n",
       "    </tr>\n",
       "    <tr>\n",
       "      <th>21243</th>\n",
       "      <td>139</td>\n",
       "      <td>1204</td>\n",
       "    </tr>\n",
       "    <tr>\n",
       "      <th>45891</th>\n",
       "      <td>303</td>\n",
       "      <td>1434</td>\n",
       "    </tr>\n",
       "    <tr>\n",
       "      <th>42613</th>\n",
       "      <td>287</td>\n",
       "      <td>2154</td>\n",
       "    </tr>\n",
       "    <tr>\n",
       "      <th>43567</th>\n",
       "      <td>291</td>\n",
       "      <td>1129</td>\n",
       "    </tr>\n",
       "    <tr>\n",
       "      <th>68268</th>\n",
       "      <td>439</td>\n",
       "      <td>5759</td>\n",
       "    </tr>\n",
       "  </tbody>\n",
       "</table>\n",
       "<p>90752 rows × 2 columns</p>\n",
       "</div>"
      ],
      "text/plain": [
       "       Row   Col\n",
       "17701  110  8978\n",
       "24098  166   988\n",
       "2637    18  1687\n",
       "97861  605  2712\n",
       "43497  291   107\n",
       "...    ...   ...\n",
       "21243  139  1204\n",
       "45891  303  1434\n",
       "42613  287  2154\n",
       "43567  291  1129\n",
       "68268  439  5759\n",
       "\n",
       "[90752 rows x 2 columns]"
      ]
     },
     "execution_count": 71,
     "metadata": {},
     "output_type": "execute_result"
    }
   ],
   "source": [
    "Omega1"
   ]
  },
  {
   "cell_type": "code",
   "execution_count": 72,
   "metadata": {},
   "outputs": [
    {
     "data": {
      "text/html": [
       "<div>\n",
       "<style scoped>\n",
       "    .dataframe tbody tr th:only-of-type {\n",
       "        vertical-align: middle;\n",
       "    }\n",
       "\n",
       "    .dataframe tbody tr th {\n",
       "        vertical-align: top;\n",
       "    }\n",
       "\n",
       "    .dataframe thead th {\n",
       "        text-align: right;\n",
       "    }\n",
       "</style>\n",
       "<table border=\"1\" class=\"dataframe\">\n",
       "  <thead>\n",
       "    <tr style=\"text-align: right;\">\n",
       "      <th></th>\n",
       "      <th>Row</th>\n",
       "      <th>Col</th>\n",
       "    </tr>\n",
       "  </thead>\n",
       "  <tbody>\n",
       "    <tr>\n",
       "      <th>41008</th>\n",
       "      <td>275</td>\n",
       "      <td>688</td>\n",
       "    </tr>\n",
       "    <tr>\n",
       "      <th>94274</th>\n",
       "      <td>598</td>\n",
       "      <td>5852</td>\n",
       "    </tr>\n",
       "    <tr>\n",
       "      <th>77380</th>\n",
       "      <td>482</td>\n",
       "      <td>1134</td>\n",
       "    </tr>\n",
       "    <tr>\n",
       "      <th>29744</th>\n",
       "      <td>201</td>\n",
       "      <td>2928</td>\n",
       "    </tr>\n",
       "    <tr>\n",
       "      <th>40462</th>\n",
       "      <td>273</td>\n",
       "      <td>8922</td>\n",
       "    </tr>\n",
       "    <tr>\n",
       "      <th>...</th>\n",
       "      <td>...</td>\n",
       "      <td>...</td>\n",
       "    </tr>\n",
       "    <tr>\n",
       "      <th>61893</th>\n",
       "      <td>409</td>\n",
       "      <td>1028</td>\n",
       "    </tr>\n",
       "    <tr>\n",
       "      <th>88126</th>\n",
       "      <td>566</td>\n",
       "      <td>7848</td>\n",
       "    </tr>\n",
       "    <tr>\n",
       "      <th>29734</th>\n",
       "      <td>201</td>\n",
       "      <td>2856</td>\n",
       "    </tr>\n",
       "    <tr>\n",
       "      <th>63133</th>\n",
       "      <td>413</td>\n",
       "      <td>2070</td>\n",
       "    </tr>\n",
       "    <tr>\n",
       "      <th>11864</th>\n",
       "      <td>72</td>\n",
       "      <td>6327</td>\n",
       "    </tr>\n",
       "  </tbody>\n",
       "</table>\n",
       "<p>10084 rows × 2 columns</p>\n",
       "</div>"
      ],
      "text/plain": [
       "       Row   Col\n",
       "41008  275   688\n",
       "94274  598  5852\n",
       "77380  482  1134\n",
       "29744  201  2928\n",
       "40462  273  8922\n",
       "...    ...   ...\n",
       "61893  409  1028\n",
       "88126  566  7848\n",
       "29734  201  2856\n",
       "63133  413  2070\n",
       "11864   72  6327\n",
       "\n",
       "[10084 rows x 2 columns]"
      ]
     },
     "execution_count": 72,
     "metadata": {},
     "output_type": "execute_result"
    }
   ],
   "source": [
    "Omega2"
   ]
  },
  {
   "cell_type": "markdown",
   "metadata": {},
   "source": [
    "# 2. Learning"
   ]
  },
  {
   "cell_type": "code",
   "execution_count": 73,
   "metadata": {},
   "outputs": [],
   "source": [
    "def predict(Ui, Vi):\n",
    "    return np.dot(Ui.T, Vi)"
   ]
  },
  {
   "cell_type": "markdown",
   "metadata": {},
   "source": [
    "We have to derive the gradient F(U, V) respect to  U and V. Then, using gradient Descent to iterate U, V.  \n",
    "Gradient(Ui) = -(Mij - Ui.T*Vj)Vj + lambdaUi  \n",
    "Gradient(Vi) = -(Mij - Ui.T*Vj)Ui + lambdaVj  \n",
    "(Calculation of Gradients written in CS541_a4_2.1.pdf)  \n",
    "u = u - lr*gradient(u)  \n",
    "v = v - lr*gradient(v)  "
   ]
  },
  {
   "cell_type": "code",
   "execution_count": 76,
   "metadata": {},
   "outputs": [],
   "source": [
    "# Define a function to implement Gradient Descent\n",
    "def GD(Omega1, lam, lr, epoch, U_init, V_init):\n",
    "    F_list = []\n",
    "    U = U_init.copy()\n",
    "    V = V_init.copy()\n",
    "    for e in range(epoch):\n",
    "        F = 0\n",
    "        for index, row in Omega1.iterrows():\n",
    "            i = row['Row']\n",
    "            j = row['Col']\n",
    "            error = M[i][j] - predict(U[:, i], V[:, j])\n",
    "            U[:, i] += lr * (error * V[:, j] - lam*U[:, i])\n",
    "            \n",
    "            V[:, j] += lr * (error * U[:, i] - lam*V[:, j])\n",
    "            F += error**2\n",
    "        F = 0.5*F + 0.5*lam*(LA.norm(U, 'fro')**2 + LA.norm(V, 'fro')**2)\n",
    "        F_list.append(F)\n",
    "        print(F)\n",
    "    return F_list, U, V"
   ]
  },
  {
   "cell_type": "code",
   "execution_count": 77,
   "metadata": {},
   "outputs": [],
   "source": [
    "r = 10\n",
    "# initialize U and V\n",
    "U = np.random.random((r, n))\n",
    "V = np.random.random((r, p))"
   ]
  },
  {
   "cell_type": "code",
   "execution_count": 78,
   "metadata": {},
   "outputs": [
    {
     "name": "stdout",
     "output_type": "stream",
     "text": [
      "104004.97907002251\n",
      "99670.90039315073\n",
      "98622.17786023435\n",
      "98091.22072129206\n",
      "97783.51168976336\n",
      "97588.39867916648\n",
      "97455.8415755759\n",
      "97360.8547352749\n",
      "97289.9874782766\n",
      "97235.50314477462\n",
      "97192.67543405145\n",
      "97158.45592907569\n",
      "97130.7818738135\n",
      "97108.1985653379\n",
      "97089.64374630667\n",
      "97074.31912533348\n",
      "97061.61068759995\n",
      "97051.03736435586\n",
      "97042.21676507573\n",
      "97034.84151642109\n",
      "97028.66240675678\n",
      "97023.47603580133\n",
      "97019.11553979006\n",
      "97015.44347964911\n",
      "97012.34629341497\n",
      "97009.72990862497\n",
      "97007.51623391066\n",
      "97005.64032936652\n",
      "97004.04810888536\n",
      "97002.69446463225\n",
      "97001.54172965954\n",
      "97000.55841361525\n",
      "96999.71816025826\n",
      "96998.99888607014\n",
      "96998.38206725572\n",
      "96997.85214873089\n",
      "96997.39605360743\n",
      "96997.00277567588\n",
      "96996.66304049816\n",
      "96996.36902332633\n",
      "96996.11411411286\n",
      "96995.89272161435\n",
      "96995.70010993001\n",
      "96995.53226201984\n",
      "96995.38576564903\n",
      "96995.25771797862\n",
      "96995.14564571998\n",
      "96995.04743821143\n",
      "96994.96129131893\n",
      "96994.88566031856\n"
     ]
    }
   ],
   "source": [
    "lam = 1\n",
    "learning_rate = 0.1\n",
    "epoch = 50\n",
    "F_list, U_lam_1, V_lam_1 = GD(Omega1, lam, learning_rate, epoch, U, V)"
   ]
  },
  {
   "cell_type": "code",
   "execution_count": null,
   "metadata": {},
   "outputs": [],
   "source": []
  },
  {
   "cell_type": "code",
   "execution_count": null,
   "metadata": {},
   "outputs": [],
   "source": []
  },
  {
   "cell_type": "code",
   "execution_count": 79,
   "metadata": {},
   "outputs": [
    {
     "name": "stderr",
     "output_type": "stream",
     "text": [
      "/Users/wangchenxu/opt/anaconda3/envs/tensorflow/lib/python3.7/site-packages/ipykernel_launcher.py:3: MatplotlibDeprecationWarning: Case-insensitive properties were deprecated in 3.3 and support will be removed two minor releases later\n",
      "  This is separate from the ipykernel package so we can avoid doing imports until\n"
     ]
    },
    {
     "data": {
      "image/png": "[encoded data removed]",
      "text/plain": [
       "<Figure size 720x504 with 1 Axes>"
      ]
     },
     "metadata": {
      "needs_background": "light"
     },
     "output_type": "display_data"
    }
   ],
   "source": [
    "# Plot the objective value against the number of iterations.\n",
    "fig = plt.figure(figsize=(10, 7))\n",
    "plt.plot(list(range(1,50+1)), F_list, '-.r', LineWidth=2,label='loss_function: F(U,V)')\n",
    "\n",
    "\n",
    "plt.legend()\n",
    "plt.tight_layout()\n",
    "plt.xlabel(\"iteration\")\n",
    "plt.ylabel('F(U, V)')\n",
    "plt.show()"
   ]
  },
  {
   "cell_type": "markdown",
   "metadata": {},
   "source": [
    " As the plot showing up, it can converaged with the increasing iteration.  \n",
    " It can converage after 10 iteraions.  "
   ]
  },
  {
   "cell_type": "markdown",
   "metadata": {},
   "source": [
    "# 3. Evaluation"
   ]
  },
  {
   "cell_type": "code",
   "execution_count": 80,
   "metadata": {},
   "outputs": [],
   "source": [
    "# To get the prediction Matrix X\n",
    "X_lam_1 = predict(U_lam_1, V_lam_1)"
   ]
  },
  {
   "cell_type": "code",
   "execution_count": 81,
   "metadata": {},
   "outputs": [
    {
     "data": {
      "text/plain": [
       "(610, 9724)"
      ]
     },
     "execution_count": 81,
     "metadata": {},
     "output_type": "execute_result"
    }
   ],
   "source": [
    "X_lam_1.shape"
   ]
  },
  {
   "cell_type": "code",
   "execution_count": null,
   "metadata": {},
   "outputs": [],
   "source": []
  },
  {
   "cell_type": "code",
   "execution_count": 82,
   "metadata": {},
   "outputs": [],
   "source": [
    "# Define a function to calculate the RMSE\n",
    "def RMSE_func(X_predict, Omega2):\n",
    "    rmse = 0\n",
    "    for index, row in Omega1.iterrows():\n",
    "        i = row['Row']\n",
    "        j = row['Col']\n",
    "        error = (M[i, j] - X_predict[i, j])**2\n",
    "        rmse += error\n",
    "    rmse = math.sqrt(rmse/len(Omega2))\n",
    "    return rmse"
   ]
  },
  {
   "cell_type": "code",
   "execution_count": 83,
   "metadata": {},
   "outputs": [],
   "source": [
    "# Record the RMSE for the choice lambda= 1.\n",
    "rmse_lam_1 = RMSE_func(X_lam_1, Omega2)"
   ]
  },
  {
   "cell_type": "code",
   "execution_count": 84,
   "metadata": {},
   "outputs": [
    {
     "name": "stdout",
     "output_type": "stream",
     "text": [
      "3.9771602004217375\n"
     ]
    }
   ],
   "source": [
    "print(rmse_lam_1)"
   ]
  },
  {
   "cell_type": "code",
   "execution_count": 85,
   "metadata": {},
   "outputs": [],
   "source": [
    "# Test different lambda\n",
    "lam_list = [1e-6, 1e-3, 0.1, 0.5, 2, 5, 10, 20, 50, 100, 500, 1000]"
   ]
  },
  {
   "cell_type": "code",
   "execution_count": 86,
   "metadata": {},
   "outputs": [],
   "source": [
    "# Define a funciton to calcuate RMSE for the models with different lambda\n",
    "def RMSE_dif_lam(lam, U_init, V_init):\n",
    "    #RMSE_list = []\n",
    "    epoch = 10\n",
    "    #for i in range(len(lam_list)):\n",
    "    F_list, U_lam_i, V_lam_i = GD(Omega1, lam, learning_rate, epoch, U_init, V_init)\n",
    "    X_lam_i = predict(U_lam_i, V_lam_i)\n",
    "    rmse_lam_i = RMSE_func(X_lam_i, Omega2)\n",
    "    #RMSE_list.append(rmse_lam_i)\n",
    "    print(rmse_lam_i)\n",
    "    return rmse_lam_i"
   ]
  },
  {
   "cell_type": "code",
   "execution_count": 46,
   "metadata": {},
   "outputs": [
    {
     "name": "stdout",
     "output_type": "stream",
     "text": [
      "60751.23311177922\n"
     ]
    },
    {
     "name": "stderr",
     "output_type": "stream",
     "text": [
      "/Users/wangchenxu/opt/anaconda3/envs/tensorflow/lib/python3.7/site-packages/ipykernel_launcher.py:11: RuntimeWarning: overflow encountered in multiply\n",
      "  # This is added back by InteractiveShellApp.init_path()\n",
      "/Users/wangchenxu/opt/anaconda3/envs/tensorflow/lib/python3.7/site-packages/ipykernel_launcher.py:14: RuntimeWarning: overflow encountered in double_scalars\n",
      "  \n",
      "/Users/wangchenxu/opt/anaconda3/envs/tensorflow/lib/python3.7/site-packages/ipykernel_launcher.py:13: RuntimeWarning: overflow encountered in multiply\n",
      "  del sys.path[0]\n"
     ]
    },
    {
     "name": "stdout",
     "output_type": "stream",
     "text": [
      "nan\n",
      "nan\n",
      "nan\n",
      "nan\n",
      "nan\n",
      "nan\n",
      "nan\n",
      "nan\n",
      "nan\n",
      "nan\n"
     ]
    }
   ],
   "source": [
    "rmse_lam_0_1 = RMSE_dif_lam(0.1, U, V)"
   ]
  },
  {
   "cell_type": "code",
   "execution_count": 87,
   "metadata": {},
   "outputs": [
    {
     "name": "stdout",
     "output_type": "stream",
     "text": [
      "70917.94477146718\n",
      "65000.813252387634\n",
      "63911.23986083391\n",
      "63407.26241147322\n",
      "63124.95645873231\n",
      "62947.473028905595\n",
      "62826.120645310904\n",
      "62737.24457546932\n",
      "62668.25635064822\n",
      "62612.04505059151\n",
      "3.185759434862598\n"
     ]
    }
   ],
   "source": [
    "rmse_lam_0_5 = RMSE_dif_lam(0.5, U, V)"
   ]
  },
  {
   "cell_type": "code",
   "execution_count": 88,
   "metadata": {},
   "outputs": [
    {
     "name": "stdout",
     "output_type": "stream",
     "text": [
      "220896.92248242264\n",
      "227795.9842747057\n",
      "227806.50941305832\n",
      "227667.88680501273\n",
      "227571.67611893566\n",
      "227515.4954807914\n",
      "227484.1355928072\n",
      "227466.94678695846\n",
      "227457.6625407925\n",
      "227452.75414206745\n",
      "6.407390476234995\n"
     ]
    }
   ],
   "source": [
    "rmse_lam_2 = RMSE_dif_lam(2, U, V)"
   ]
  },
  {
   "cell_type": "code",
   "execution_count": 89,
   "metadata": {},
   "outputs": [
    {
     "name": "stdout",
     "output_type": "stream",
     "text": [
      "545535.5719421258\n",
      "568591.4545954464\n",
      "567549.2175074056\n",
      "566986.583629534\n",
      "566735.8217337985\n",
      "566623.9552051217\n",
      "566572.6482486464\n",
      "566548.3216285319\n",
      "566536.4017015389\n",
      "566530.380948047\n",
      "10.574522883914927\n"
     ]
    }
   ],
   "source": [
    "rmse_lam_5 = RMSE_dif_lam(5, U, V)"
   ]
  },
  {
   "cell_type": "code",
   "execution_count": 90,
   "metadata": {},
   "outputs": [
    {
     "name": "stdout",
     "output_type": "stream",
     "text": [
      "562778.85345563\n",
      "569257.9430348647\n",
      "569244.8685396116\n",
      "569244.1331055755\n",
      "569244.0891278589\n",
      "569244.086388132\n",
      "569244.0862151851\n",
      "569244.0862042502\n",
      "569244.0862035603\n",
      "569244.0862035163\n",
      "10.574559143103961\n"
     ]
    }
   ],
   "source": [
    "rmse_lam_10 = RMSE_dif_lam(10, U, V)"
   ]
  },
  {
   "cell_type": "code",
   "execution_count": 48,
   "metadata": {},
   "outputs": [
    {
     "name": "stderr",
     "output_type": "stream",
     "text": [
      "/Users/wangchenxu/opt/anaconda3/envs/tensorflow/lib/python3.7/site-packages/ipykernel_launcher.py:13: RuntimeWarning: overflow encountered in multiply\n",
      "  del sys.path[0]\n",
      "/Users/wangchenxu/opt/anaconda3/envs/tensorflow/lib/python3.7/site-packages/ipykernel_launcher.py:13: RuntimeWarning: invalid value encountered in subtract\n",
      "  del sys.path[0]\n",
      "/Users/wangchenxu/opt/anaconda3/envs/tensorflow/lib/python3.7/site-packages/ipykernel_launcher.py:14: RuntimeWarning: overflow encountered in double_scalars\n",
      "  \n",
      "/Users/wangchenxu/opt/anaconda3/envs/tensorflow/lib/python3.7/site-packages/ipykernel_launcher.py:11: RuntimeWarning: overflow encountered in multiply\n",
      "  # This is added back by InteractiveShellApp.init_path()\n",
      "/Users/wangchenxu/opt/anaconda3/envs/tensorflow/lib/python3.7/site-packages/ipykernel_launcher.py:11: RuntimeWarning: invalid value encountered in add\n",
      "  # This is added back by InteractiveShellApp.init_path()\n"
     ]
    },
    {
     "name": "stdout",
     "output_type": "stream",
     "text": [
      "nan\n",
      "nan\n",
      "nan\n",
      "nan\n",
      "nan\n",
      "nan\n",
      "nan\n",
      "nan\n",
      "nan\n",
      "nan\n",
      "nan\n"
     ]
    }
   ],
   "source": [
    "rmse_lam_20 = RMSE_dif_lam(20, U, V)"
   ]
  },
  {
   "cell_type": "code",
   "execution_count": 91,
   "metadata": {},
   "outputs": [],
   "source": [
    "lambda_list = [0.5, 1, 2, 5, 10]\n",
    "rmse_list = [rmse_lam_0_5, rmse_lam_1, rmse_lam_2, rmse_lam_5, rmse_lam_10]"
   ]
  },
  {
   "cell_type": "code",
   "execution_count": 92,
   "metadata": {},
   "outputs": [
    {
     "name": "stderr",
     "output_type": "stream",
     "text": [
      "/Users/wangchenxu/opt/anaconda3/envs/tensorflow/lib/python3.7/site-packages/ipykernel_launcher.py:2: MatplotlibDeprecationWarning: Case-insensitive properties were deprecated in 3.3 and support will be removed two minor releases later\n",
      "  \n"
     ]
    },
    {
     "data": {
      "image/png": "[encoded data removed]",
      "text/plain": [
       "<Figure size 720x504 with 1 Axes>"
      ]
     },
     "metadata": {
      "needs_background": "light"
     },
     "output_type": "display_data"
    }
   ],
   "source": [
    "fig = plt.figure(figsize=(10, 7))\n",
    "plt.plot(lambda_list, rmse_list, '-.r', LineWidth=2,label='RMSE for different lambda')\n",
    "\n",
    "\n",
    "plt.legend()\n",
    "plt.tight_layout()\n",
    "plt.xlabel(\"lambda\")\n",
    "plt.ylabel('RMSE')\n",
    "plt.show()"
   ]
  },
  {
   "cell_type": "markdown",
   "metadata": {},
   "source": [
    "When lambda is less than 0.5 or larger than 10, the loss function cannot converage. Therefore, the recommender system doesn't work if lambda is too small or too large.  \n",
    "As the plot above, it shows that we can get the best performance when lambda is 0.5."
   ]
  },
  {
   "cell_type": "code",
   "execution_count": null,
   "metadata": {},
   "outputs": [],
   "source": []
  }
 ],
 "metadata": {
  "kernelspec": {
   "display_name": "Python 3",
   "language": "python",
   "name": "python3"
  },
  "language_info": {
   "codemirror_mode": {
    "name": "ipython",
    "version": 3
   },
   "file_extension": ".py",
   "mimetype": "text/x-python",
   "name": "python",
   "nbconvert_exporter": "python",
   "pygments_lexer": "ipython3",
   "version": "3.7.9"
  }
 },
 "nbformat": 4,
 "nbformat_minor": 4
}
